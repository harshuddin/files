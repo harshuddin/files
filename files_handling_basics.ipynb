{
  "nbformat": 4,
  "nbformat_minor": 0,
  "metadata": {
    "colab": {
      "provenance": []
    },
    "kernelspec": {
      "name": "python3",
      "display_name": "Python 3"
    },
    "language_info": {
      "name": "python"
    }
  },
  "cells": [
    {
      "cell_type": "markdown",
      "source": [
        "Files, exceptional handling, logging and\n",
        "memory management Questions\n",
        "\n",
        "Q1. What is the difference between interpreted and compiled languages?\n",
        "answer>\n",
        "1. COMPILED LANGUAGES\n",
        "\n",
        "1\tA compiled language is a programming language whose implementations are typically compilers and not interpreters.\n",
        "\n",
        "2\tIn this language, once the program is compiled it is expressed in the instructions of the target machine.\n",
        "\n",
        "3\tThere are at least two steps to get from source code to execution.\n",
        "\n",
        "4\tIn this language, compiled programs run faster than interpreted programs.\n",
        "\n",
        "5\tIn this language, compilation errors prevent the code from compiling.\n",
        "\n",
        "6\tThe code of compiled language can be executed directly by the computer’s CPU.\n",
        "\n",
        "7\tThis language delivers better performance.\n",
        "8\tExample of compiled language – C, C++, C#, CLEO, COBOL, etc.\n",
        "\n",
        "2. INTERPRETED LANGUAGE\n",
        "\n",
        "1\tAn interpreted language is a programming language whose implementations execute instructions directly and freely, without previously compiling a program into machine-language instructions.\n",
        "\n",
        "2\tWhile in this language, the instructions are not directly executed by the target machine.\n",
        "\n",
        "3 There is only one step to get from source code to execution.\n",
        "\n",
        "4\tWhile in this language, interpreted programs can be modified while the program is running.\n",
        "\n",
        "5\tIn this languages, all the debugging occurs at run-time.\n",
        "\n",
        "6\tA program written in an interpreted language is not compiled, it is interpreted.\n",
        "\n",
        "7\tThis language example delivers relatively slower performance.\n",
        "\n",
        "8\tExample of Interpreted language – JavaScript, Perl, Python, BASIC, etc.\n",
        "\n",
        "Q2.What is exception handling in Python?\n",
        "\n",
        "Anawer> Exception handling is a mechanism in Python that allows you to handle runtime errors or exceptions that occur during the execution of your program. It enables you to write more robust and reliable code by anticipating and managing potential errors.\n",
        "\n",
        "Exception handling is crucial because it:\n",
        "\n",
        "1. Prevents program crashes: By catching and handling exceptions, you can prevent your program from crashing unexpectedly.\n",
        "2. Provides meaningful error messages: You can provide informative error messages to users, helping them understand what went wrong.\n",
        "3. Allows for recovery: In some cases, you can recover from exceptions by retrying operations or providing alternative solutions.\n",
        "\n",
        "Basic Exception Handling Syntax\n",
        "Here's a simple example of exception handling in Python:\n",
        "\n",
        "\n",
        "try:\n",
        "    # Code that might raise an exception\n",
        "    x = 1 / 0\n",
        "except ZeroDivisionError:\n",
        "    # Handle the exception\n",
        "    print(\"Cannot divide by zero!\")\n",
        "\n",
        "\n",
        "Q3.What is the purpose of the finally block in exception handling?\n",
        "\n",
        "answer> The finally block in exception handling serves a crucial purpose:\n",
        "\n",
        "Purpose of the Finally Block\n",
        "1. Cleanup: The finally block is executed regardless of whether an exception was thrown or not. This makes it ideal for cleaning up resources, such as:\n",
        "    - Closing files or database connections\n",
        "    - Releasing locks or system resources\n",
        "    - Freeing up memory\n",
        "2. Guaranteed Execution: Code within the finally block is guaranteed to run, even if:\n",
        "    - An exception is thrown and caught\n",
        "    - An exception is thrown and not caught (e.g., due to a bare except clause)\n",
        "    - The program is terminated abruptly (e.g., via sys.exit())\n",
        "\n",
        "Example Use Case\n",
        "\n",
        "try:\n",
        "    # Open a file\n",
        "    file = open('example.txt', 'r')\n",
        "    # Read from the file\n",
        "    content = file.read()\n",
        "except FileNotFoundError:\n",
        "    print(\"File not found!\")\n",
        "finally:\n",
        "    # Close the file, if it was opened\n",
        "    if 'file' in locals() and file is not None:\n",
        "        file.close()\n",
        "\n",
        "\n",
        "In this example, the finally block ensures that the file is closed, regardless of whether an exception was thrown or not.\n",
        "\n",
        "Q4. What is logging in Python?\n",
        "\n",
        "anwer>Logging in Python is a built-in module (logging) that allows you to track events happening during the execution of your program. It provides a flexible framework for recording events, errors, and other significant occurrences in your application.\n",
        "\n",
        "#  Why Use Logging?\n",
        "\n",
        "1. Debugging: Logging helps you diagnose issues by providing valuable information about what happened before an error occurred.\n",
        "2. Auditing: Logging can be used to track user activities, system changes, or other important events.\n",
        "3. Error reporting: Logging allows you to record errors and exceptions, making it easier to identify and fix problems.\n",
        "\n",
        "Q5. What is the significance of the __del__ method in Python?\n",
        "\n",
        "answer> In Python, the __del__ method, also known as the finalizer or destructor, is a special method that is automatically called when an object is about to be destroyed. This typically happens when the object's reference count reaches zero, indicating that there are no more references to the object.\n",
        "\n",
        "Significance of __del__:\n",
        "\n",
        "1. Resource cleanup: The __del__ method is useful for cleaning up resources, such as:\n",
        "    - Closing files or database connections\n",
        "    - Releasing locks or system resources\n",
        "    - Freeing up memory\n",
        "2. Finalization: __del__ can be used to perform finalization tasks, like:\n",
        "    - Logging object destruction\n",
        "    - Notifying other objects or systems\n",
        "    - Updating external state\n",
        "3. Debugging: By implementing __del__, you can gain insight into object lifetime and destruction, which can be helpful for debugging purposes.\n",
        "\n",
        "Q6.What is the difference between import and from ... import in Python?\n",
        "\n",
        "Answer> In Python, import and from ... import are two different ways to import modules or specific components from modules. Here's a breakdown of the differences:\n",
        "\n",
        "Import\n",
        "import module_name imports the entire module, making it available for use in your code. You can access the module's components using the dot notation (module_name.component).\n",
        "\n",
        "Example:\n",
        "\n",
        "import math\n",
        "print(math.pi)\n",
        "\n",
        "\n",
        "From ... Import\n",
        "from module_name import component imports a specific component (e.g., function, class, variable) from the module. The imported component is made available for direct use in your code.\n",
        "\n",
        "Example:\n",
        "\n",
        "from math import pi\n",
        "print(pi)\n",
        "\n",
        "\n",
        "Key differences:\n",
        "\n",
        "1. Scope: import imports the entire module, while from ... import imports a specific component.\n",
        "2. Access: With import, you need to use the dot notation to access components. With from ... import, you can use the imported component directly.\n",
        "3. Namespace: import adds the module name to the current namespace, while from ... import adds the imported component to the current namespace.\n",
        "\n",
        "When to use each:\n",
        "\n",
        "1. Use import when:\n",
        "    - You need to use multiple components from the same module.\n",
        "    - You want to access the module's components using the dot notation.\n",
        "2. Use from ... import when:\n",
        "    - You only need to use a specific component from the module.\n",
        "    - You want to simplify your code by avoiding the dot notation.\n",
        "\n",
        "In summary:\n",
        "\n",
        "- import imports the entire module, making it available for use with the dot notation.\n",
        "- from ... import imports a specific component from the module, making it available for direct use in your code\n",
        "\n",
        "Q7.How can you handle multiple exceptions in Python?\n",
        "\n",
        "Answer> In Python, you can handle multiple exceptions using the following methods:\n",
        "\n",
        "Method 1: Multiple Except Blocks\n",
        "You can use multiple except blocks to catch and handle different exceptions.\n",
        "\n",
        "\n",
        "try:\n",
        "    # Code that might raise exceptions\n",
        "    x = 1 / 0\n",
        "except ZeroDivisionError:\n",
        "    print(\"Cannot divide by zero!\")\n",
        "except TypeError:\n",
        "    print(\"Invalid data type!\")\n",
        "except Exception as e:\n",
        "    print(f\"An unexpected error occurred: {e}\")\n",
        "\n",
        "\n",
        "Method 2: Single Except Block with Multiple Exceptions\n",
        "You can use a single except block to catch multiple exceptions by separating them with commas.\n",
        "\n",
        "\n",
        "try:\n",
        "    # Code that might raise exceptions\n",
        "    x = 1 / 0\n",
        "except (ZeroDivisionError, TypeError) as e:\n",
        "    print(f\"An error occurred: {e}\")\n",
        "\n",
        "Q8.What is the purpose of the with statement when handling files in Python?\n",
        "\n",
        "Answer>The with statement in Python is used to handle resources, such as files, connections, or locks, that require cleanup after use. When working with files, the with statement ensures that the file is properly closed after it is no longer needed, regardless of whether an exception is thrown or not.\n",
        "\n",
        "Purpose of the With Statement:\n",
        "\n",
        "1. Automatic File Closure: The with statement automatically closes the file when you're done with it, even if exceptions are thrown. This ensures that system resources associated with the file are released.\n",
        "2. Exception Safety: If an exception occurs within the with block, the file will still be closed, preventing resource leaks.\n",
        "3. Readability and Conciseness: The with statement makes your code more readable by clearly defining the scope of the file operation.\n",
        "\n",
        "Q9.What is the difference between multithreading and multiprocessing?\n",
        "\n",
        "Answer>Multithreading and multiprocessing are two techniques used to achieve concurrency in programming, allowing multiple tasks to be executed simultaneously. The primary difference between them lies in how they utilize system resources and handle execution:\n",
        "\n",
        "Multithreading\n",
        "- Single Process: Multiple threads exist within a single process, sharing the same memory space.\n",
        "- Shared Resources: Threads share the same resources, such as memory, I/O devices, and other system resources.\n",
        "- Lightweight: Creating threads is relatively lightweight and faster compared to creating processes.\n",
        "- Communication: Inter-thread communication is easier due to shared memory.\n",
        "- Synchronization: However, synchronization mechanisms (e.g., locks) are required to prevent data corruption.\n",
        "\n",
        "Multiprocessing\n",
        "- Multiple Processes: Multiple processes run concurrently, each with its own memory space.\n",
        "- Separate Resources: Each process has its own resources, such as memory, I/O devices, and other system resources.\n",
        "- Heavyweight: Creating processes is more heavyweight and slower compared to creating threads.\n",
        "- Communication: Inter-process communication (IPC) is more complex due to separate memory spaces.\n",
        "- Synchronization: Synchronization mechanisms are also required, but IPC adds an extra layer of complexity.\n",
        "\n",
        "Q10.  What are the advantages of using logging in a program?\n",
        "\n",
        "Ansswer>Logging provides several advantages in programming:\n",
        "\n",
        "Advantages of Logging\n",
        "1. Debugging: Logging helps identify and diagnose issues by providing valuable information about the program's execution, including errors, warnings, and other significant events.\n",
        "2. Error Tracking: Logging allows you to track errors and exceptions, making it easier to reproduce and fix issues.\n",
        "3. Auditing: Logging provides a record of user activities, system changes, and other important events, which can be useful for auditing and compliance purposes.\n",
        "4. Performance Monitoring: Logging can help monitor performance metrics, such as execution time, memory usage, and other key indicators.\n",
        "5. Security: Logging can help detect security-related issues, such as unauthorized access attempts, data breaches, or other malicious activities.\n",
        "6. Troubleshooting: Logging provides valuable information for troubleshooting, allowing developers to quickly identify and resolve issues.\n",
        "7. Code Optimization: Logging can help identify performance bottlenecks, allowing developers to optimize code and improve overall performance.\n",
        "8. Compliance: Logging can help organizations meet regulatory requirements, such as GDPR, HIPAA, or PCI-DSS, by providing a record of data processing activities.\n",
        "\n",
        "Q11.What is memory management in Python?\n",
        "\n",
        "Anawer>Memory management in Python refers to the process of managing the memory used by Python programs. Python uses a private heap to manage memory, which is a pool of memory that is allocated and deallocated as needed.\n",
        "\n",
        "How Python's Memory Management Works:\n",
        "\n",
        "1. Object Creation: When an object is created, Python's memory manager allocates memory for the object from the private heap.\n",
        "2. Reference Counting: The object's reference count is incremented each time a reference to the object is created.\n",
        "3. Reference Deletion: When a reference to an object is deleted, the object's reference count is decremented.\n",
        "4. Deallocation: When an object's reference count reaches zero, the object is deallocated, and its memory is freed.\n",
        "5. Garbage Collection: Python's garbage collector periodically scans the heap for unreachable objects and deallocates their memory.\n",
        "\n",
        "Q12. What are the basic steps involved in exception handling in Python?\n",
        "\n",
        "Answer>Exception handling in Python involves the following basic steps:\n",
        "\n",
        "Step 1: Try Block\n",
        "The try block contains the code that might raise an exception. This block is used to enclose the code that might potentially throw an exception.\n",
        "\n",
        "Step 2: Except Block\n",
        "The except block is used to handle the exception that is raised in the try block. You can specify the type of exception you want to handle, and the code that should be executed when that exception is raised.\n",
        "\n",
        "Step 3: Raise Exception (Optional)\n",
        "If you want to manually raise an exception, you can use the raise keyword followed by the exception type and a message.\n",
        "\n",
        "Step 4: Finally Block (Optional)\n",
        "The finally block is optional and is used to execute code regardless of whether an exception was raised or not. This block is typically used for cleanup operations, such as closing files or releasing resources.\n",
        "\n",
        "Q13.What is the importance of closing a file in Python?\n",
        "\n",
        "Answer>Closing a file in Python is important for several reasons:\n",
        "\n",
        "Releasing System Resources: When you open a file, Python allocates system resources, such as file descriptors, memory, and disk space. Closing the file releases these resources, making them available for other tasks.\n",
        "\n",
        "Preventing File Corruption: If you don't close a file properly, you risk corrupting the file or losing data. This is especially true for write operations, where buffered data may not be flushed to disk.\n",
        "\n",
        "Ensuring Data Integrity: Closing a file ensures that any buffered data is written to disk, maintaining data integrity.\n",
        "\n",
        "Avoiding File Locks: On some operating systems, failing to close a file can cause file locks, preventing other processes from accessing the file.\n",
        "\n",
        "Best Practices:\n",
        "\n",
        "1. Use the with statement: The with statement automatically closes the file when you're done with it, even if exceptions occur.\n",
        "2. Explicitly close files: If you don't use the with statement, make sure to  close files using the close() method.\n",
        "\n",
        "Example using the with statement:\n",
        "\n",
        "\n",
        "with open('example.txt', 'r') as file:\n",
        "    content = file.read()\n",
        "    print(content)\n",
        "# File is automatically closed here\n",
        "\n",
        "\n",
        "Example explicitly closing a file:\n",
        "\n",
        "\n",
        "file = open('example.txt', 'r')\n",
        "content = file.read()\n",
        "print(content)\n",
        "file.close()  # Explicitly close the file\n",
        "\n",
        "Q14. How do you raise an exception manually in Python?\n",
        "\n",
        "Answer>In Python, you can raise an exception manually using the raise keyword. Here's a basic example:\n",
        "\n",
        "\n",
        "raise Exception(\"This is a manual exception\")\n",
        "\n",
        "\n",
        "You can also specify the type of exception you want to raise:\n",
        "\n",
        "\n",
        "raise ValueError(\"Invalid input\")\n",
        "\n",
        "\n",
        "Additionally, you can include additional information, such as a custom error message or a specific error code:\n",
        "\n",
        "\n",
        "raise RuntimeError(\"An error occurred while processing the data\", 500)\n",
        "\n",
        "Q15.Why is it important to use multithreading in certain applications?\n",
        "\n",
        "Answer>Multithreading is important in certain applications because it allows for:\n",
        "\n",
        "1. Improved responsiveness: By performing tasks concurrently, multithreading can improve the responsiveness of an application, making it feel more interactive and engaging to users.\n",
        "2. Increased throughput: Multithreading can take advantage of multiple CPU cores, allowing for more tasks to be executed simultaneously, which can lead to significant performance improvements.\n",
        "3. Better resource utilization: Multithreading can help to optimize resource utilization by allowing tasks to be executed in parallel, reducing the likelihood of resources being idle.\n",
        "4. Enhanced scalability: Multithreading can make an application more scalable, as it can handle increased workloads by simply adding more threads.\n",
        "5. Simplified code: In some cases, multithreading can simplify code by allowing tasks to be executed concurrently, reducing the need for complex synchronization mechanisms.In summary, multithreading is important in applications where responsiveness, throughput, and scalability are critical, and where tasks can be executed concurrently without compromising the integrity of the application.\n",
        "\n",
        "\n",
        "\n",
        "\n"
      ],
      "metadata": {
        "id": "CxWLVgdhj25t"
      }
    },
    {
      "cell_type": "markdown",
      "source": [
        "# PRACTICAL QUESTIONS"
      ],
      "metadata": {
        "id": "_-w8GqtwGgxo"
      }
    },
    {
      "cell_type": "code",
      "source": [
        "# How can you open a file for writing in Python and write a string to it?\n",
        "#open the file in write mode ('w')\n",
        "with open('file.txt', 'w') as file:\n",
        "    # Write a string to the file\n",
        "    file.write('Hello, World!')\n",
        "    with open('file.txt', 'a') as file:\n",
        "     file.write('Hello again!')"
      ],
      "metadata": {
        "id": "TfNEr0E8NyGr"
      },
      "execution_count": null,
      "outputs": []
    },
    {
      "cell_type": "code",
      "source": [
        "# Write a Python program to read the contents of a file and print each line?\n",
        "with open('file.txt', 'r') as file:\n",
        "    for line in file:\n",
        "        print(line.strip())"
      ],
      "metadata": {
        "colab": {
          "base_uri": "https://localhost:8080/"
        },
        "id": "hz8Np02qV-FM",
        "outputId": "654478ba-52d9-4a0f-e8a7-7bf90f2f8b84"
      },
      "execution_count": null,
      "outputs": [
        {
          "output_type": "stream",
          "name": "stdout",
          "text": [
            "Hello, World!\n"
          ]
        }
      ]
    },
    {
      "cell_type": "code",
      "source": [
        "# How would you handle a case where the file doesn't exist while trying to open it for reading?\n",
        "try:\n",
        "    with open('non_existent_file.txt', 'r') as file:\n",
        "        content = file.read()\n",
        "except FileNotFoundError:\n",
        "    print(\"The file 'non_existent_file.txt' does not exist.\")"
      ],
      "metadata": {
        "colab": {
          "base_uri": "https://localhost:8080/"
        },
        "id": "kgElcrEaZdhm",
        "outputId": "142a50ea-6b33-4058-904f-ea82a95ce685"
      },
      "execution_count": null,
      "outputs": [
        {
          "output_type": "stream",
          "name": "stdout",
          "text": [
            "The file 'non_existent_file.txt' does not exist.\n"
          ]
        }
      ]
    },
    {
      "cell_type": "code",
      "source": [
        "# Write a Python script that reads from one file and writes its content to another file?\n",
        "with open('file.txt', 'r') as source_file:\n",
        "    content = source_file.read()\n",
        "with open('new_file.txt', 'w') as target_file:\n",
        "    target_file.write(content)"
      ],
      "metadata": {
        "id": "yfekX8joZwZe"
      },
      "execution_count": null,
      "outputs": []
    },
    {
      "cell_type": "code",
      "source": [
        "# How would you catch and handle division by zero error in Python?\n",
        "try:\n",
        "    # Attempt to divide by zero\n",
        "    result = 10 / 0\n",
        "except ZeroDivisionError:\n",
        "    # Handle the division by zero error\n",
        "    print(\"Error: Cannot divide by zero!\")\n",
        "else:\n",
        "    # If no error occurs, print the result\n",
        "    print(f\"Result: {result}\")"
      ],
      "metadata": {
        "colab": {
          "base_uri": "https://localhost:8080/"
        },
        "id": "_HjLaI84aG4T",
        "outputId": "789b8612-808e-4d4c-875a-dc10c2b12f48"
      },
      "execution_count": null,
      "outputs": [
        {
          "output_type": "stream",
          "name": "stdout",
          "text": [
            "Error: Cannot divide by zero!\n"
          ]
        }
      ]
    },
    {
      "cell_type": "code",
      "source": [
        "# Write a Python program that logs an error message to a log file when a division by zero exception occurs\n",
        "import logging\n",
        "logging.basicConfig(filename='error.log', level=logging.ERROR)\n",
        "try:\n",
        "    # Attempt to divide by zero\n",
        "    result = 10 / 0\n",
        "except ZeroDivisionError:\n",
        "    # Log the error message\n",
        "    logging.error(\"Error: Cannot divide by zero!\")\n",
        "    print(\"Error logged to 'error.log'\")\n",
        "else:\n",
        "    # If no error occurs, print the result\n",
        "    print(f\"Result: {result}\")"
      ],
      "metadata": {
        "colab": {
          "base_uri": "https://localhost:8080/"
        },
        "id": "ZTIuokwMan-N",
        "outputId": "1ff5abd8-788a-4e7d-a990-83dfd41b26a3"
      },
      "execution_count": null,
      "outputs": [
        {
          "output_type": "stream",
          "name": "stderr",
          "text": [
            "ERROR:root:Error: Cannot divide by zero!\n"
          ]
        },
        {
          "output_type": "stream",
          "name": "stdout",
          "text": [
            "Error logged to 'error.log'\n"
          ]
        }
      ]
    },
    {
      "cell_type": "code",
      "source": [
        "# How do you log information at different levels (INFO, ERROR, WARNING) in Python using the logging module?\n",
        "import logging\n",
        "logging.basicConfig(level=logging.INFO)\n",
        "logging.info(\"This is an informational message.\")\n",
        "logging.warning(\"This is a warning message.\")\n",
        "logging.error(\"This is an error message.\")"
      ],
      "metadata": {
        "colab": {
          "base_uri": "https://localhost:8080/"
        },
        "id": "HEKvxnzob9PX",
        "outputId": "244cc3cd-b7e9-4052-a2d9-adbfa6fc9427"
      },
      "execution_count": null,
      "outputs": [
        {
          "output_type": "stream",
          "name": "stderr",
          "text": [
            "WARNING:root:This is a warning message.\n",
            "ERROR:root:This is an error message.\n"
          ]
        }
      ]
    },
    {
      "cell_type": "code",
      "source": [
        " #Write a progra to handle a file opening error using exception handldef open_file(file_name):\n",
        "def open_file(file_name):\n",
        "    try:\n",
        "        # Try to open the file in read mode\n",
        "        with open(file_name, 'r') as file:\n",
        "            content = file.read()\n",
        "            print(\"File content:\")\n",
        "            print(content)\n",
        "    except FileNotFoundError:\n",
        "        # This block will run if the file doesn't exist\n",
        "        print(f\"Error: The file '{file_name}' was not found.\")\n",
        "    except IOError:\n",
        "        # This block handles other IO related errors (e.g., permission errors)\n",
        "        print(f\"Error: There was an issue opening the file '{file_name}'.\")\n",
        "    except Exception as e:\n",
        "        # This block will catch any other unexpected errors\n",
        "        print(f\"An unexpected error occurred: {e}\")\n",
        "\n",
        "# Test the function with a non-existent file\n",
        "file_name = 'example.txt'\n",
        "open_file(file_name)\n"
      ],
      "metadata": {
        "colab": {
          "base_uri": "https://localhost:8080/"
        },
        "id": "r2t7ocAzdVT9",
        "outputId": "2d6c00af-2afb-4949-c4d2-cfbc96734d53"
      },
      "execution_count": null,
      "outputs": [
        {
          "output_type": "stream",
          "name": "stdout",
          "text": [
            "Error: The file 'example.txt' was not found.\n"
          ]
        }
      ]
    },
    {
      "cell_type": "code",
      "source": [
        "# How can you read a file line by line and store its content in a list in Python?\n",
        "with open('file.txt', 'r') as file:\n",
        "    lines = file.readlines()\n",
        "    for line in lines:\n",
        "        print(line.strip())"
      ],
      "metadata": {
        "colab": {
          "base_uri": "https://localhost:8080/"
        },
        "id": "JIir7hImfT-d",
        "outputId": "363ceb55-cd61-41af-fc6f-7cab8e7f8baa"
      },
      "execution_count": null,
      "outputs": [
        {
          "output_type": "stream",
          "name": "stdout",
          "text": [
            "Hello, World!\n"
          ]
        }
      ]
    },
    {
      "cell_type": "code",
      "source": [
        "# How can you append data to an existing file in Python?\n",
        "with open('file.txt', 'a') as file:\n",
        "    file.write('Hello again!')\n",
        "    with open('file.txt', 'r') as file:\n",
        "        content = file.read()\n",
        "        print(content)\n"
      ],
      "metadata": {
        "colab": {
          "base_uri": "https://localhost:8080/"
        },
        "id": "vyC54GKVfctP",
        "outputId": "fadde1bc-22d6-4aab-d1ab-5f8a9357a74d"
      },
      "execution_count": null,
      "outputs": [
        {
          "output_type": "stream",
          "name": "stdout",
          "text": [
            "Hello, World!\n"
          ]
        }
      ]
    },
    {
      "cell_type": "code",
      "source": [
        "# How would you check if a file exists before attempting to read it in Python?\n",
        "import os\n",
        "file_path = 'file.txt'\n",
        "if os.path.exists(file_path):\n",
        "    with open(file_path, 'r') as file:\n",
        "        content = file.read()\n",
        "        print(content)\n",
        "        print(f\"The file '{file_path}' exists and has been read.\")\n",
        "else:\n",
        "    print(f\"The file '{file_path}' does not exist.\")"
      ],
      "metadata": {
        "colab": {
          "base_uri": "https://localhost:8080/"
        },
        "id": "do753DN1fscx",
        "outputId": "6c728588-8055-409d-ba15-c2c90d3f4542"
      },
      "execution_count": null,
      "outputs": [
        {
          "output_type": "stream",
          "name": "stdout",
          "text": [
            "Hello, World!Hello again!\n",
            "The file 'file.txt' exists and has been read.\n"
          ]
        }
      ]
    },
    {
      "cell_type": "code",
      "source": [
        "# How would you implement a basic logging setup that logs to a file with rotation after 1MB?\n",
        "import logging\n",
        "from logging.handlers import RotatingFileHandler\n",
        "# Create a logger\n",
        "logger = logging.getLogger('my_logger')\n",
        "logger.setLevel(logging.INFO)\n"
      ],
      "metadata": {
        "id": "mg_4geTqf24P"
      },
      "execution_count": null,
      "outputs": []
    },
    {
      "cell_type": "code",
      "source": [
        "# How would you open a file and read its contents using a context manager in Python?\n",
        "with open('file.txt', 'r') as file:\n",
        "    content = file.read()\n",
        "    print(content)\n",
        "    print(\"File has been read.\")"
      ],
      "metadata": {
        "colab": {
          "base_uri": "https://localhost:8080/"
        },
        "id": "3P9CmtpagD89",
        "outputId": "00e22dd3-152c-44f6-960a-9fcab0576a60"
      },
      "execution_count": null,
      "outputs": [
        {
          "output_type": "stream",
          "name": "stdout",
          "text": [
            "Hello, World!Hello again!\n",
            "File has been read.\n"
          ]
        }
      ]
    },
    {
      "cell_type": "code",
      "source": [
        "# How can you check if a file is empty before attempting to read its contents?\n",
        "import os\n",
        "file_path = 'file.txt'\n",
        "if os.path.getsize(file_path) > 0:\n",
        "    with open(file_path, 'r') as file:\n",
        "        content = file.read()\n",
        "        print(content)\n",
        "        print(f\"The file '{file_path}' is not empty and has been read.\")\n",
        "else:\n",
        "    print(f\"The file '{file_path}' is empty.\")"
      ],
      "metadata": {
        "colab": {
          "base_uri": "https://localhost:8080/"
        },
        "id": "cMicj0rCgQrR",
        "outputId": "cb05f806-7a9d-43ea-8baf-2c9cc447af57"
      },
      "execution_count": null,
      "outputs": [
        {
          "output_type": "stream",
          "name": "stdout",
          "text": [
            "Hello, World!Hello again!\n",
            "The file 'file.txt' is not empty and has been read.\n"
          ]
        }
      ]
    },
    {
      "cell_type": "code",
      "source": [
        "# Write a Python program that writes to a log file when an error occurs during file handling?\n",
        "import logging\n",
        "logging.basicConfig(filename='error.log', level=logging.ERROR)\n",
        "try:\n",
        "    with open('non_existent_file.txt', 'r') as file:\n",
        "        content = file.read()\n",
        "except FileNotFoundError:\n",
        "    logging.error(\"Error: The file 'non_existent_file.txt' was not found.\")\n",
        "    print(\"Error logged to 'error.log'\")\n",
        "else:\n",
        "    print(\"File has been read.\")"
      ],
      "metadata": {
        "colab": {
          "base_uri": "https://localhost:8080/"
        },
        "id": "k-yu6JfHhvWr",
        "outputId": "f59712c5-4b91-472b-c17d-29e3a60d92e6"
      },
      "execution_count": null,
      "outputs": [
        {
          "output_type": "stream",
          "name": "stderr",
          "text": [
            "ERROR:root:Error: The file 'non_existent_file.txt' was not found.\n"
          ]
        },
        {
          "output_type": "stream",
          "name": "stdout",
          "text": [
            "Error logged to 'error.log'\n"
          ]
        }
      ]
    },
    {
      "cell_type": "code",
      "source": [
        "# Demonstrate how to use memory profiling to check the memory usage of a small program?\n",
        "def my_function():\n",
        "    a = [i for i in range(10000)]  # Create a large list\n",
        "    b = [i ** 2 for i in range(10000)]  # Create another large list\n",
        "    c = sum(a) + sum(b)  # Perform a calculation\n",
        "    return c\n",
        "\n",
        "if __name__ == \"__main__\":\n",
        "    my_function()\n"
      ],
      "metadata": {
        "id": "_QyA52k7h-tj"
      },
      "execution_count": null,
      "outputs": []
    },
    {
      "cell_type": "code",
      "source": [
        " #Write a Python program that reads a file and prints the number of occurrences of a specific word?\n",
        "def count_word_occurrences(file_name, target_word):\n",
        "    try:\n",
        "        with open(file_name, 'r') as file:\n",
        "            content = file.read()  # Read the entire file content\n",
        "            word_count = content.lower().split().count(target_word.lower())  # Convert to lowercase to make the search case-insensitive\n",
        "            print(f\"The word '{target_word}' occurred {word_count} times in the file.\")\n",
        "    except FileNotFoundError:\n",
        "        print(f\"Error: The file '{file_name}' was not found.\")\n",
        "    except Exception as e:\n",
        "        print(f\"An unexpected error occurred: {e}\")\n",
        "\n",
        "# Test the function\n",
        "file_name = 'example.txt'  # Replace with your file name\n",
        "target_word = 'python'  # Replace with the word you want to search\n",
        "count_word_occurrences(file_name, target_word)"
      ],
      "metadata": {
        "colab": {
          "base_uri": "https://localhost:8080/"
        },
        "id": "fIxjMfzXin5M",
        "outputId": "1fcdca8e-01ef-4472-d6bd-702891635b66"
      },
      "execution_count": null,
      "outputs": [
        {
          "output_type": "stream",
          "name": "stdout",
          "text": [
            "Error: The file 'example.txt' was not found.\n"
          ]
        }
      ]
    },
    {
      "cell_type": "code",
      "source": [],
      "metadata": {
        "id": "Q49jrqOsjywt"
      },
      "execution_count": null,
      "outputs": []
    }
  ]
}